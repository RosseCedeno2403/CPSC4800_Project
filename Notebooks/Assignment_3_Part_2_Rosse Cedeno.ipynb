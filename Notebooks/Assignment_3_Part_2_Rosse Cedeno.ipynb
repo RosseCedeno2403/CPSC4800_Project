{
 "cells": [
  {
   "cell_type": "markdown",
   "id": "9be2a432",
   "metadata": {},
   "source": [
    "## Exercise 2"
   ]
  },
  {
   "cell_type": "markdown",
   "id": "724c9a61",
   "metadata": {},
   "source": [
    "**Exploratory Data Analysis - Titanic Data Set**\n"
   ]
  },
  {
   "cell_type": "code",
   "execution_count": 2,
   "id": "558e58f2",
   "metadata": {},
   "outputs": [],
   "source": [
    "import pandas as pd"
   ]
  },
  {
   "cell_type": "code",
   "execution_count": 3,
   "id": "e4e0c71b",
   "metadata": {},
   "outputs": [],
   "source": [
    "file_path = '/Users/lele/Desktop/CPSC 4800/titanic.csv'"
   ]
  },
  {
   "cell_type": "code",
   "execution_count": 4,
   "id": "5be2808e",
   "metadata": {},
   "outputs": [
    {
     "data": {
      "text/html": [
       "<div>\n",
       "<style scoped>\n",
       "    .dataframe tbody tr th:only-of-type {\n",
       "        vertical-align: middle;\n",
       "    }\n",
       "\n",
       "    .dataframe tbody tr th {\n",
       "        vertical-align: top;\n",
       "    }\n",
       "\n",
       "    .dataframe thead th {\n",
       "        text-align: right;\n",
       "    }\n",
       "</style>\n",
       "<table border=\"1\" class=\"dataframe\">\n",
       "  <thead>\n",
       "    <tr style=\"text-align: right;\">\n",
       "      <th></th>\n",
       "      <th>PassengerId</th>\n",
       "      <th>Survived</th>\n",
       "      <th>Pclass</th>\n",
       "      <th>Name</th>\n",
       "      <th>Sex</th>\n",
       "      <th>Age</th>\n",
       "      <th>SibSp</th>\n",
       "      <th>Parch</th>\n",
       "      <th>Ticket</th>\n",
       "      <th>Fare</th>\n",
       "      <th>Cabin</th>\n",
       "      <th>Embarked</th>\n",
       "    </tr>\n",
       "  </thead>\n",
       "  <tbody>\n",
       "    <tr>\n",
       "      <th>0</th>\n",
       "      <td>1</td>\n",
       "      <td>0</td>\n",
       "      <td>3</td>\n",
       "      <td>Braund, Mr. Owen Harris</td>\n",
       "      <td>male</td>\n",
       "      <td>22.0</td>\n",
       "      <td>1</td>\n",
       "      <td>0</td>\n",
       "      <td>A/5 21171</td>\n",
       "      <td>7.2500</td>\n",
       "      <td>NaN</td>\n",
       "      <td>S</td>\n",
       "    </tr>\n",
       "    <tr>\n",
       "      <th>1</th>\n",
       "      <td>2</td>\n",
       "      <td>1</td>\n",
       "      <td>1</td>\n",
       "      <td>Cumings, Mrs. John Bradley (Florence Briggs Th...</td>\n",
       "      <td>female</td>\n",
       "      <td>38.0</td>\n",
       "      <td>1</td>\n",
       "      <td>0</td>\n",
       "      <td>PC 17599</td>\n",
       "      <td>71.2833</td>\n",
       "      <td>C85</td>\n",
       "      <td>C</td>\n",
       "    </tr>\n",
       "    <tr>\n",
       "      <th>2</th>\n",
       "      <td>3</td>\n",
       "      <td>1</td>\n",
       "      <td>3</td>\n",
       "      <td>Heikkinen, Miss. Laina</td>\n",
       "      <td>female</td>\n",
       "      <td>26.0</td>\n",
       "      <td>0</td>\n",
       "      <td>0</td>\n",
       "      <td>STON/O2. 3101282</td>\n",
       "      <td>7.9250</td>\n",
       "      <td>NaN</td>\n",
       "      <td>S</td>\n",
       "    </tr>\n",
       "    <tr>\n",
       "      <th>3</th>\n",
       "      <td>4</td>\n",
       "      <td>1</td>\n",
       "      <td>1</td>\n",
       "      <td>Futrelle, Mrs. Jacques Heath (Lily May Peel)</td>\n",
       "      <td>female</td>\n",
       "      <td>35.0</td>\n",
       "      <td>1</td>\n",
       "      <td>0</td>\n",
       "      <td>113803</td>\n",
       "      <td>53.1000</td>\n",
       "      <td>C123</td>\n",
       "      <td>S</td>\n",
       "    </tr>\n",
       "    <tr>\n",
       "      <th>4</th>\n",
       "      <td>5</td>\n",
       "      <td>0</td>\n",
       "      <td>3</td>\n",
       "      <td>Allen, Mr. William Henry</td>\n",
       "      <td>male</td>\n",
       "      <td>35.0</td>\n",
       "      <td>0</td>\n",
       "      <td>0</td>\n",
       "      <td>373450</td>\n",
       "      <td>8.0500</td>\n",
       "      <td>NaN</td>\n",
       "      <td>S</td>\n",
       "    </tr>\n",
       "    <tr>\n",
       "      <th>...</th>\n",
       "      <td>...</td>\n",
       "      <td>...</td>\n",
       "      <td>...</td>\n",
       "      <td>...</td>\n",
       "      <td>...</td>\n",
       "      <td>...</td>\n",
       "      <td>...</td>\n",
       "      <td>...</td>\n",
       "      <td>...</td>\n",
       "      <td>...</td>\n",
       "      <td>...</td>\n",
       "      <td>...</td>\n",
       "    </tr>\n",
       "    <tr>\n",
       "      <th>886</th>\n",
       "      <td>887</td>\n",
       "      <td>0</td>\n",
       "      <td>2</td>\n",
       "      <td>Montvila, Rev. Juozas</td>\n",
       "      <td>male</td>\n",
       "      <td>27.0</td>\n",
       "      <td>0</td>\n",
       "      <td>0</td>\n",
       "      <td>211536</td>\n",
       "      <td>13.0000</td>\n",
       "      <td>NaN</td>\n",
       "      <td>S</td>\n",
       "    </tr>\n",
       "    <tr>\n",
       "      <th>887</th>\n",
       "      <td>888</td>\n",
       "      <td>1</td>\n",
       "      <td>1</td>\n",
       "      <td>Graham, Miss. Margaret Edith</td>\n",
       "      <td>female</td>\n",
       "      <td>19.0</td>\n",
       "      <td>0</td>\n",
       "      <td>0</td>\n",
       "      <td>112053</td>\n",
       "      <td>30.0000</td>\n",
       "      <td>B42</td>\n",
       "      <td>S</td>\n",
       "    </tr>\n",
       "    <tr>\n",
       "      <th>888</th>\n",
       "      <td>889</td>\n",
       "      <td>0</td>\n",
       "      <td>3</td>\n",
       "      <td>Johnston, Miss. Catherine Helen \"Carrie\"</td>\n",
       "      <td>female</td>\n",
       "      <td>NaN</td>\n",
       "      <td>1</td>\n",
       "      <td>2</td>\n",
       "      <td>W./C. 6607</td>\n",
       "      <td>23.4500</td>\n",
       "      <td>NaN</td>\n",
       "      <td>S</td>\n",
       "    </tr>\n",
       "    <tr>\n",
       "      <th>889</th>\n",
       "      <td>890</td>\n",
       "      <td>1</td>\n",
       "      <td>1</td>\n",
       "      <td>Behr, Mr. Karl Howell</td>\n",
       "      <td>male</td>\n",
       "      <td>26.0</td>\n",
       "      <td>0</td>\n",
       "      <td>0</td>\n",
       "      <td>111369</td>\n",
       "      <td>30.0000</td>\n",
       "      <td>C148</td>\n",
       "      <td>C</td>\n",
       "    </tr>\n",
       "    <tr>\n",
       "      <th>890</th>\n",
       "      <td>891</td>\n",
       "      <td>0</td>\n",
       "      <td>3</td>\n",
       "      <td>Dooley, Mr. Patrick</td>\n",
       "      <td>male</td>\n",
       "      <td>32.0</td>\n",
       "      <td>0</td>\n",
       "      <td>0</td>\n",
       "      <td>370376</td>\n",
       "      <td>7.7500</td>\n",
       "      <td>NaN</td>\n",
       "      <td>Q</td>\n",
       "    </tr>\n",
       "  </tbody>\n",
       "</table>\n",
       "<p>891 rows × 12 columns</p>\n",
       "</div>"
      ],
      "text/plain": [
       "     PassengerId  Survived  Pclass  \\\n",
       "0              1         0       3   \n",
       "1              2         1       1   \n",
       "2              3         1       3   \n",
       "3              4         1       1   \n",
       "4              5         0       3   \n",
       "..           ...       ...     ...   \n",
       "886          887         0       2   \n",
       "887          888         1       1   \n",
       "888          889         0       3   \n",
       "889          890         1       1   \n",
       "890          891         0       3   \n",
       "\n",
       "                                                  Name     Sex   Age  SibSp  \\\n",
       "0                              Braund, Mr. Owen Harris    male  22.0      1   \n",
       "1    Cumings, Mrs. John Bradley (Florence Briggs Th...  female  38.0      1   \n",
       "2                               Heikkinen, Miss. Laina  female  26.0      0   \n",
       "3         Futrelle, Mrs. Jacques Heath (Lily May Peel)  female  35.0      1   \n",
       "4                             Allen, Mr. William Henry    male  35.0      0   \n",
       "..                                                 ...     ...   ...    ...   \n",
       "886                              Montvila, Rev. Juozas    male  27.0      0   \n",
       "887                       Graham, Miss. Margaret Edith  female  19.0      0   \n",
       "888           Johnston, Miss. Catherine Helen \"Carrie\"  female   NaN      1   \n",
       "889                              Behr, Mr. Karl Howell    male  26.0      0   \n",
       "890                                Dooley, Mr. Patrick    male  32.0      0   \n",
       "\n",
       "     Parch            Ticket     Fare Cabin Embarked  \n",
       "0        0         A/5 21171   7.2500   NaN        S  \n",
       "1        0          PC 17599  71.2833   C85        C  \n",
       "2        0  STON/O2. 3101282   7.9250   NaN        S  \n",
       "3        0            113803  53.1000  C123        S  \n",
       "4        0            373450   8.0500   NaN        S  \n",
       "..     ...               ...      ...   ...      ...  \n",
       "886      0            211536  13.0000   NaN        S  \n",
       "887      0            112053  30.0000   B42        S  \n",
       "888      2        W./C. 6607  23.4500   NaN        S  \n",
       "889      0            111369  30.0000  C148        C  \n",
       "890      0            370376   7.7500   NaN        Q  \n",
       "\n",
       "[891 rows x 12 columns]"
      ]
     },
     "execution_count": 4,
     "metadata": {},
     "output_type": "execute_result"
    }
   ],
   "source": [
    "titanic = pd.read_csv(file_path)\n",
    "titanic"
   ]
  },
  {
   "cell_type": "code",
   "execution_count": 5,
   "id": "997227f1",
   "metadata": {},
   "outputs": [
    {
     "name": "stdout",
     "output_type": "stream",
     "text": [
      "<class 'pandas.core.frame.DataFrame'>\n",
      "RangeIndex: 891 entries, 0 to 890\n",
      "Data columns (total 12 columns):\n",
      " #   Column       Non-Null Count  Dtype  \n",
      "---  ------       --------------  -----  \n",
      " 0   PassengerId  891 non-null    int64  \n",
      " 1   Survived     891 non-null    int64  \n",
      " 2   Pclass       891 non-null    int64  \n",
      " 3   Name         891 non-null    object \n",
      " 4   Sex          891 non-null    object \n",
      " 5   Age          714 non-null    float64\n",
      " 6   SibSp        891 non-null    int64  \n",
      " 7   Parch        891 non-null    int64  \n",
      " 8   Ticket       891 non-null    object \n",
      " 9   Fare         891 non-null    float64\n",
      " 10  Cabin        204 non-null    object \n",
      " 11  Embarked     889 non-null    object \n",
      "dtypes: float64(2), int64(5), object(5)\n",
      "memory usage: 83.7+ KB\n"
     ]
    }
   ],
   "source": [
    "titanic.info()"
   ]
  },
  {
   "cell_type": "code",
   "execution_count": 6,
   "id": "13d20a24",
   "metadata": {},
   "outputs": [
    {
     "name": "stdout",
     "output_type": "stream",
     "text": [
      "       PassengerId    Survived      Pclass         Age       SibSp  \\\n",
      "count   891.000000  891.000000  891.000000  714.000000  891.000000   \n",
      "mean    446.000000    0.383838    2.308642   29.699118    0.523008   \n",
      "std     257.353842    0.486592    0.836071   14.526497    1.102743   \n",
      "min       1.000000    0.000000    1.000000    0.420000    0.000000   \n",
      "25%     223.500000    0.000000    2.000000   20.125000    0.000000   \n",
      "50%     446.000000    0.000000    3.000000   28.000000    0.000000   \n",
      "75%     668.500000    1.000000    3.000000   38.000000    1.000000   \n",
      "max     891.000000    1.000000    3.000000   80.000000    8.000000   \n",
      "\n",
      "            Parch        Fare  \n",
      "count  891.000000  891.000000  \n",
      "mean     0.381594   32.204208  \n",
      "std      0.806057   49.693429  \n",
      "min      0.000000    0.000000  \n",
      "25%      0.000000    7.910400  \n",
      "50%      0.000000   14.454200  \n",
      "75%      0.000000   31.000000  \n",
      "max      6.000000  512.329200  \n"
     ]
    }
   ],
   "source": [
    "summary_statistics = titanic.describe()\n",
    "print(summary_statistics)"
   ]
  },
  {
   "cell_type": "markdown",
   "id": "491a74c2",
   "metadata": {},
   "source": [
    "---\n",
    "## 1) Determine if the Survival Rate is associated to the Class of Passenger\n",
    "---"
   ]
  },
  {
   "cell_type": "code",
   "execution_count": 7,
   "id": "d605d5b9",
   "metadata": {},
   "outputs": [],
   "source": [
    "from scipy.stats import chi2_contingency\n",
    "import matplotlib.pyplot as plt"
   ]
  },
  {
   "cell_type": "markdown",
   "id": "9f41f16b",
   "metadata": {},
   "source": [
    "### a) Contigency table of the two categorical variables:"
   ]
  },
  {
   "cell_type": "code",
   "execution_count": 8,
   "id": "a020c4cd",
   "metadata": {},
   "outputs": [
    {
     "data": {
      "text/html": [
       "<div>\n",
       "<style scoped>\n",
       "    .dataframe tbody tr th:only-of-type {\n",
       "        vertical-align: middle;\n",
       "    }\n",
       "\n",
       "    .dataframe tbody tr th {\n",
       "        vertical-align: top;\n",
       "    }\n",
       "\n",
       "    .dataframe thead th {\n",
       "        text-align: right;\n",
       "    }\n",
       "</style>\n",
       "<table border=\"1\" class=\"dataframe\">\n",
       "  <thead>\n",
       "    <tr style=\"text-align: right;\">\n",
       "      <th>Survived</th>\n",
       "      <th>0</th>\n",
       "      <th>1</th>\n",
       "    </tr>\n",
       "    <tr>\n",
       "      <th>Pclass</th>\n",
       "      <th></th>\n",
       "      <th></th>\n",
       "    </tr>\n",
       "  </thead>\n",
       "  <tbody>\n",
       "    <tr>\n",
       "      <th>1</th>\n",
       "      <td>80</td>\n",
       "      <td>136</td>\n",
       "    </tr>\n",
       "    <tr>\n",
       "      <th>2</th>\n",
       "      <td>97</td>\n",
       "      <td>87</td>\n",
       "    </tr>\n",
       "    <tr>\n",
       "      <th>3</th>\n",
       "      <td>372</td>\n",
       "      <td>119</td>\n",
       "    </tr>\n",
       "  </tbody>\n",
       "</table>\n",
       "</div>"
      ],
      "text/plain": [
       "Survived    0    1\n",
       "Pclass            \n",
       "1          80  136\n",
       "2          97   87\n",
       "3         372  119"
      ]
     },
     "execution_count": 8,
     "metadata": {},
     "output_type": "execute_result"
    }
   ],
   "source": [
    "contingency_table1 = pd.crosstab(titanic['Pclass'], titanic['Survived'])\n",
    "contingency_table1"
   ]
  },
  {
   "cell_type": "markdown",
   "id": "89ee7c08",
   "metadata": {},
   "source": [
    "### b) Side-by side Plot"
   ]
  },
  {
   "cell_type": "code",
   "execution_count": 9,
   "id": "0f1afb69",
   "metadata": {},
   "outputs": [
    {
     "data": {
      "image/png": "[encoded data removed]",
      "text/plain": [
       "<Figure size 720x432 with 1 Axes>"
      ]
     },
     "metadata": {
      "needs_background": "light"
     },
     "output_type": "display_data"
    }
   ],
   "source": [
    "# Plot the side-by-side bar graph\n",
    "contingency_table1.plot(kind='bar', stacked=False, figsize=(10, 6), color=['orange', 'blue'])\n",
    "\n",
    "# Customize the plot\n",
    "plt.title(\"Survival Rate by Passenger Class\")\n",
    "plt.xlabel(\"Passenger Class\")\n",
    "plt.ylabel(\"Count\")\n",
    "plt.legend(title=\"Survival Rate\", loc=\"upper right\")\n",
    "\n",
    "\n",
    "# Show the plot\n",
    "plt.show()\n"
   ]
  },
  {
   "cell_type": "markdown",
   "id": "4bf8a5fc",
   "metadata": {},
   "source": [
    "---\n",
    "\n",
    "## Interpretation of the graph:\n",
    "\n",
    "_When we examine the side-by-side graph, it becomes evident that there is no apparent independence between Survival Rate and Passenger Class. This suggests a likely association between the two variables. To confirm and formally test our hypothesis, let's proceed with a Chi-Square analysis._\n",
    "\n",
    "---"
   ]
  },
  {
   "cell_type": "markdown",
   "id": "2af93949",
   "metadata": {},
   "source": [
    "---\n",
    "## Hypotheses\n",
    "\n",
    " _H0: Survival Rate and Passenger Class are independent among all subjects in the population_\n",
    "\n",
    " _Ha: Survival Rate and Passenger Class are not independent among all subjects in the population_\n",
    " \n",
    "---\n"
   ]
  },
  {
   "cell_type": "markdown",
   "id": "6549d0b8",
   "metadata": {},
   "source": [
    "### c) Perform the Chi-square test"
   ]
  },
  {
   "cell_type": "code",
   "execution_count": 10,
   "id": "180e8090",
   "metadata": {},
   "outputs": [
    {
     "name": "stdout",
     "output_type": "stream",
     "text": [
      "Chi-square statistic: 102.88898875696056\n",
      "P-value: 4.549251711298793e-23\n",
      "Degrees of freedom: 2\n",
      "Expected frequencies table:\n",
      "[[133.09090909  82.90909091]\n",
      " [113.37373737  70.62626263]\n",
      " [302.53535354 188.46464646]]\n"
     ]
    }
   ],
   "source": [
    "chi2, p, dof, expected = chi2_contingency(contingency_table1)\n",
    "\n",
    "# Output the chi-square statistic, p-value, degrees of freedom, and expected frequencies\n",
    "print(\"Chi-square statistic:\", chi2)\n",
    "print(\"P-value:\", p)\n",
    "print(\"Degrees of freedom:\", dof)\n",
    "print(\"Expected frequencies table:\")\n",
    "print(expected)\n"
   ]
  },
  {
   "cell_type": "markdown",
   "id": "67eab1f1",
   "metadata": {},
   "source": [
    "### Conclusion:\n",
    "\n",
    "_Since the Chi-square value of 102.889 is greater than the decision point DP = 5.99 with 2 Degrees of Freedom (Based in the Chi-Square Decision Point Table), we have enough evidence to reject the null hypothesis and conclude that the Survival Rate and Passenger Class are not significantly independent of each other among all subjects in the population._\n",
    "\n",
    "### In conclusion, there are association between Survival Rate and Passenger Class\n"
   ]
  },
  {
   "cell_type": "markdown",
   "id": "a722ab4a",
   "metadata": {},
   "source": [
    "---\n",
    "## 2) Determine if the Survival Rate is associated to the Gender\n",
    "---"
   ]
  },
  {
   "cell_type": "markdown",
   "id": "d7d07cb8",
   "metadata": {},
   "source": [
    "### a) Contigency table of the two categorical variables:"
   ]
  },
  {
   "cell_type": "code",
   "execution_count": 11,
   "id": "5f32bbf6",
   "metadata": {},
   "outputs": [
    {
     "data": {
      "text/html": [
       "<div>\n",
       "<style scoped>\n",
       "    .dataframe tbody tr th:only-of-type {\n",
       "        vertical-align: middle;\n",
       "    }\n",
       "\n",
       "    .dataframe tbody tr th {\n",
       "        vertical-align: top;\n",
       "    }\n",
       "\n",
       "    .dataframe thead th {\n",
       "        text-align: right;\n",
       "    }\n",
       "</style>\n",
       "<table border=\"1\" class=\"dataframe\">\n",
       "  <thead>\n",
       "    <tr style=\"text-align: right;\">\n",
       "      <th>Sex</th>\n",
       "      <th>female</th>\n",
       "      <th>male</th>\n",
       "    </tr>\n",
       "    <tr>\n",
       "      <th>Survived</th>\n",
       "      <th></th>\n",
       "      <th></th>\n",
       "    </tr>\n",
       "  </thead>\n",
       "  <tbody>\n",
       "    <tr>\n",
       "      <th>0</th>\n",
       "      <td>81</td>\n",
       "      <td>468</td>\n",
       "    </tr>\n",
       "    <tr>\n",
       "      <th>1</th>\n",
       "      <td>233</td>\n",
       "      <td>109</td>\n",
       "    </tr>\n",
       "  </tbody>\n",
       "</table>\n",
       "</div>"
      ],
      "text/plain": [
       "Sex       female  male\n",
       "Survived              \n",
       "0             81   468\n",
       "1            233   109"
      ]
     },
     "execution_count": 11,
     "metadata": {},
     "output_type": "execute_result"
    }
   ],
   "source": [
    "contingency_table2 = pd.crosstab(titanic['Survived'], titanic['Sex'])\n",
    "contingency_table2"
   ]
  },
  {
   "cell_type": "markdown",
   "id": "924a6d88",
   "metadata": {},
   "source": [
    "### b) Side-by-side plot"
   ]
  },
  {
   "cell_type": "code",
   "execution_count": 12,
   "id": "c45e0c2b",
   "metadata": {},
   "outputs": [
    {
     "data": {
      "image/png": "[encoded data removed]",
      "text/plain": [
       "<Figure size 720x432 with 1 Axes>"
      ]
     },
     "metadata": {
      "needs_background": "light"
     },
     "output_type": "display_data"
    }
   ],
   "source": [
    "# Plot the side-by-side bar graph\n",
    "contingency_table2.plot(kind='bar', stacked=False, figsize=(10, 6), color=['pink', 'lightblue'])\n",
    "\n",
    "# Customize the plot\n",
    "plt.title(\"Survival Rate by Gender\")\n",
    "plt.xlabel(\"Gender\")\n",
    "plt.ylabel(\"Count\")\n",
    "plt.legend(title=\"Gender\", loc=\"upper right\")\n",
    "\n",
    "# Show the plot\n",
    "plt.show()\n"
   ]
  },
  {
   "cell_type": "markdown",
   "id": "6fd448de",
   "metadata": {},
   "source": [
    "---\n",
    "\n",
    "## Interpretation of the graph:\n",
    "\n",
    "_When we examine the side-by-side graph, it becomes evident that there is no apparent independence between Survival Rate and Gender. This suggests a likely association between the two variables. To confirm and formally test our hypothesis, let's proceed with a Chi-Square analysis._\n",
    "\n",
    "---"
   ]
  },
  {
   "cell_type": "markdown",
   "id": "5ad3758a",
   "metadata": {},
   "source": [
    "---\n",
    "## Hypotheses\n",
    "\n",
    "### *H0: Survival Rate and Gender are independent among all subjects in the population*\n",
    "\n",
    "### *Ha: Survival Rate and Gender are not independent among all subjects in the population*\n",
    "---"
   ]
  },
  {
   "cell_type": "markdown",
   "id": "47b50b1a",
   "metadata": {},
   "source": [
    "### c) Perform the Chi-Square Test"
   ]
  },
  {
   "cell_type": "code",
   "execution_count": 16,
   "id": "679d6fa5",
   "metadata": {},
   "outputs": [
    {
     "name": "stdout",
     "output_type": "stream",
     "text": [
      "Chi-square statistic: 260.71702016732104\n",
      "P-value: 1.1973570627755645e-58\n",
      "Degrees of freedom: 1\n",
      "Expected frequencies table:\n",
      "[[193.47474747 355.52525253]\n",
      " [120.52525253 221.47474747]]\n"
     ]
    }
   ],
   "source": [
    "chi2, p, dof, expected = chi2_contingency(contingency_table2)\n",
    "\n",
    "# Output the chi-square statistic, p-value, degrees of freedom, and expected frequencies\n",
    "print(\"Chi-square statistic:\", chi2)\n",
    "print(\"P-value:\", p)\n",
    "print(\"Degrees of freedom:\", dof)\n",
    "print(\"Expected frequencies table:\")\n",
    "print(expected)\n"
   ]
  },
  {
   "cell_type": "markdown",
   "id": "d3935513",
   "metadata": {},
   "source": [
    "### Conclusion:\n",
    "\n",
    "_Since the Chi-square value of 260.717 is greater than the critical value Decision Point of 3.84 for 1 Degree of Freedom (as per the Chi-Square Decision Point Table), we have sufficient evidence to reject the null hypothesis. Therefore, we can conclude that the Survival Rate and Gender are not significantly independent of each other among all subjects in the population._\n",
    "\n",
    "### In conclusion, there are association between Survival Rate and Gender"
   ]
  },
  {
   "cell_type": "markdown",
   "id": "f43fdfeb",
   "metadata": {},
   "source": [
    "---\n",
    "## 3) Determine if the Survival Rate is associated to the Age\n",
    "---"
   ]
  },
  {
   "cell_type": "markdown",
   "id": "26978fa6",
   "metadata": {},
   "source": [
    "### a) Categorize in groups \"Age\" variable and contingency table:"
   ]
  },
  {
   "cell_type": "code",
   "execution_count": 14,
   "id": "d1197584",
   "metadata": {},
   "outputs": [
    {
     "data": {
      "text/html": [
       "<div>\n",
       "<style scoped>\n",
       "    .dataframe tbody tr th:only-of-type {\n",
       "        vertical-align: middle;\n",
       "    }\n",
       "\n",
       "    .dataframe tbody tr th {\n",
       "        vertical-align: top;\n",
       "    }\n",
       "\n",
       "    .dataframe thead th {\n",
       "        text-align: right;\n",
       "    }\n",
       "</style>\n",
       "<table border=\"1\" class=\"dataframe\">\n",
       "  <thead>\n",
       "    <tr style=\"text-align: right;\">\n",
       "      <th>Age Group</th>\n",
       "      <th>Young</th>\n",
       "      <th>Middle-aged</th>\n",
       "      <th>Elderly</th>\n",
       "    </tr>\n",
       "    <tr>\n",
       "      <th>Survived</th>\n",
       "      <th></th>\n",
       "      <th></th>\n",
       "      <th></th>\n",
       "    </tr>\n",
       "  </thead>\n",
       "  <tbody>\n",
       "    <tr>\n",
       "      <th>0</th>\n",
       "      <td>69</td>\n",
       "      <td>290</td>\n",
       "      <td>65</td>\n",
       "    </tr>\n",
       "    <tr>\n",
       "      <th>1</th>\n",
       "      <td>70</td>\n",
       "      <td>182</td>\n",
       "      <td>38</td>\n",
       "    </tr>\n",
       "  </tbody>\n",
       "</table>\n",
       "</div>"
      ],
      "text/plain": [
       "Age Group  Young  Middle-aged  Elderly\n",
       "Survived                              \n",
       "0             69          290       65\n",
       "1             70          182       38"
      ]
     },
     "execution_count": 14,
     "metadata": {},
     "output_type": "execute_result"
    }
   ],
   "source": [
    "# We create age groups first 'Young', 'Middle-aged', 'Elderly'\n",
    "age_bins = [0, 18, 45, 100]  \n",
    "age_labels = ['Young', 'Middle-aged', 'Elderly']\n",
    "\n",
    "# Create a new column with age groups\n",
    "titanic['Age Group'] = pd.cut(titanic['Age'], bins=age_bins, labels=age_labels)\n",
    "\n",
    "# Create a contingency table\n",
    "contingency_table3 = pd.crosstab(titanic['Survived'], titanic['Age Group'])\n",
    "\n",
    "# Display the contingency table\n",
    "contingency_table3\n"
   ]
  },
  {
   "cell_type": "markdown",
   "id": "941b8fe1",
   "metadata": {},
   "source": [
    "### b) Side-by-side Plot"
   ]
  },
  {
   "cell_type": "code",
   "execution_count": 15,
   "id": "e2b72b12",
   "metadata": {},
   "outputs": [
    {
     "data": {
      "image/png": "[encoded data removed]",
      "text/plain": [
       "<Figure size 720x432 with 1 Axes>"
      ]
     },
     "metadata": {
      "needs_background": "light"
     },
     "output_type": "display_data"
    }
   ],
   "source": [
    "# Plot the side-by-side bar graph with custom colors\n",
    "contingency_table3.plot(kind='bar', stacked=False, figsize=(10, 6))\n",
    "\n",
    "# Customize the plot\n",
    "plt.title(\"Survival Rate by Age\")\n",
    "plt.xlabel(\"Age\")\n",
    "plt.ylabel(\"Count\")\n",
    "plt.legend(title=\"Age\", loc=\"upper right\")\n",
    "\n",
    "# Show the plot\n",
    "plt.show()\n"
   ]
  },
  {
   "cell_type": "markdown",
   "id": "6f12444c",
   "metadata": {},
   "source": [
    "### Interpretation of the graph:\n",
    "\n",
    "_When we examine the side-by-side graph, it becomes evident that there is no apparent independence between Survival Rate and Age. This suggests a likely association between the two variables. To confirm and formally test our hypothesis, let's proceed with a Chi-Square analysis._"
   ]
  },
  {
   "cell_type": "markdown",
   "id": "44a544b2",
   "metadata": {},
   "source": [
    "---\n",
    "## Hypotheses\n",
    "\n",
    "### *H0: Survival Rate and Age are independent among all subjects in the population*\n",
    "\n",
    "### *Ha: Survival Rate and Age are not independent among all subjects in the population*\n",
    "---"
   ]
  },
  {
   "cell_type": "markdown",
   "id": "49923c29",
   "metadata": {},
   "source": [
    "### c) Perform the Chi-Square Test"
   ]
  },
  {
   "cell_type": "code",
   "execution_count": 19,
   "id": "52223f69",
   "metadata": {},
   "outputs": [
    {
     "name": "stdout",
     "output_type": "stream",
     "text": [
      "Chi-square statistic: 6.890982901077968\n",
      "P-value: 0.03188908628235189\n",
      "Degrees of freedom: 2\n",
      "Expected frequencies table:\n",
      "[[ 82.54341737 280.29131653  61.16526611]\n",
      " [ 56.45658263 191.70868347  41.83473389]]\n"
     ]
    }
   ],
   "source": [
    "chi2, p, dof, expected = chi2_contingency(contingency_table3)\n",
    "\n",
    "# Output the chi-square statistic, p-value, degrees of freedom, and expected frequencies\n",
    "print(\"Chi-square statistic:\", chi2)\n",
    "print(\"P-value:\", p)\n",
    "print(\"Degrees of freedom:\", dof)\n",
    "print(\"Expected frequencies table:\")\n",
    "print(expected)"
   ]
  },
  {
   "cell_type": "markdown",
   "id": "430b1421",
   "metadata": {},
   "source": [
    "### Conclusion:\n",
    "\n",
    "_Since the Chi-square value of 6.891 is greater than the critical value Decision Point of 5.99 for 2 Degrees of Freedom (as per the Chi-Square Decision Point Table), we have sufficient evidence to reject the null hypothesis. Therefore, we can conclude that the Survival Rate and Gender are not significantly independent of each other among all subjects in the population._\n",
    "\n",
    "### In conclusion, there are association between Survival Rate and Age"
   ]
  }
 ],
 "metadata": {
  "kernelspec": {
   "display_name": "Python 3 (ipykernel)",
   "language": "python",
   "name": "python3"
  },
  "language_info": {
   "codemirror_mode": {
    "name": "ipython",
    "version": 3
   },
   "file_extension": ".py",
   "mimetype": "text/x-python",
   "name": "python",
   "nbconvert_exporter": "python",
   "pygments_lexer": "ipython3",
   "version": "3.8.2"
  }
 },
 "nbformat": 4,
 "nbformat_minor": 5
}
